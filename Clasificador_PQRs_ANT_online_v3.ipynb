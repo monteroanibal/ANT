{
  "nbformat": 4,
  "nbformat_minor": 0,
  "metadata": {
    "colab": {
      "provenance": [],
      "collapsed_sections": [
        "jPWHn7AXp1pQ"
      ],
      "authorship_tag": "ABX9TyM+V2DWY6WmPtnMNKEIgPRj",
      "include_colab_link": true
    },
    "kernelspec": {
      "name": "python3",
      "display_name": "Python 3"
    },
    "language_info": {
      "name": "python"
    }
  },
  "cells": [
    {
      "cell_type": "markdown",
      "metadata": {
        "id": "view-in-github",
        "colab_type": "text"
      },
      "source": [
        "<a href=\"https://colab.research.google.com/github/monteroanibal/ANT/blob/main/Clasificador_PQRs_ANT_online_v3.ipynb\" target=\"_parent\"><img src=\"https://colab.research.google.com/assets/colab-badge.svg\" alt=\"Open In Colab\"/></a>"
      ]
    },
    {
      "cell_type": "markdown",
      "source": [
        "![rsz_lo_001.png](data:image/png;base64,iVBORw0KGgoAAAANSUhEUgAAADIAAAAXCAYAAABJXhw0AAAABGdBTUEAALGPC/xhBQAAACBjSFJNAAB6JgAAgIQAAPoAAACA6AAAdTAAAOpgAAA6mAAAF3CculE8AAAABmJLR0QA/wD/AP+gvaeTAAAACXBIWXMAAC4jAAAuIwF4pT92AAAAB3RJTUUH5wMeASsmlUzJRQAAB+NJREFUWMO92H+snmdZB/DPdT/vOafnnLaHbnXr5qjbqDJHg6uMMAJjLZ0TkEG0aMQfY90IZibo0PiHXULUSDdDNEahMf5IQTEqmOhADUFZq9DMMbZuziXq2AZbt9r1tN1pe3p+vO/zXP7x3C0tsIIx8U7enOd93+d97ut7Xd/re33vE3ZuDyGlEBHoLI9TMl697kh59Kq/zvLJ2/PQzX9ubVlORGZGieyMROy/DUmm/kLY8bH0/7zCPbeFLumkMCncjMki/6E7esnhvP1u+Wy8A9vwQrIreDpKlnh4expGSGEsO12kzIKClNmJKAi09XP1fWcw0RktNQipE7kKJyhBnv5NTc7u8yZn0IPoEmOi/K1wU/3umPVzb3XQD7bKriayDRqZP9Xy+sG1nrFvmrH59wmv08Zt+u87TWllJrXCpCihy05I62bCky8wXQEdOZUum2FheAf+iDyCEOO88g/4UcmQHZ94SSCNrZsGIjoRt4r4JWIYZHZleu3kwtvfcdHBzRe1J1f25IkhsaZwfOnZwd5hGU7uO3nxT2INHsWsiI3Su7BadodEXIct5FeFG7DBycUfMt4cEM0JcpupseuMuiEmDLv9mng7bqR9wuy9i754b9jxp+elVhERfeJs1LM8kkGUzNkXx9f9/KE3TP7z1OUnFmOsK7oSTWchBhf83uzVdh2+eisO4k+wrT7nFyuoW0S5GT+GAX6h7rEVR/Fe2b4N12IWl2KLQVlXnzmO9wuExs73xPmplXmae/dLHxBChowMJe158oLpxXzNwpaL1y++Iubyqbmp8tCxNX/3H8dXme8GN2CmbnqtwYDh8ABejY9iE16swPYTG4WndblX2IBX4fP4J4MZRnNbRQzINbWPVjjTGefFYYDW4pD1az/lhbl9xBtEtjIakYjm/q/MTD/6/MpTWWJ6YWHiL1w4+zmnJjdK15DvJE5ht+Hw3XXH1+BreBzfhwv697lBWiD2kq/Ap/FOTBnNHcLLyR/B9+JhvLbGHzLYud1LNX5j66YwaBrzS4lH8B4R4yJTRogURQ6HZWK0HE8NuuWf6OZm5jXdRN3sOREt8e+YqtX4CH4Zn8WXcRW+gqdwQMTTOI4vVFpN4Yl6/YVKrUO4v9JwqQLg8498y4pEP0ciZQ4wwu34YxEdWWTUquZykW9OsS8ziLxUukTEQ9puTInrMF+5/t34Lyu6PZabokt69XodniRniajS3KuaCF1PgT60NoROulS4Sdv+mYhWiVLvP0eWG5s3USLML6WJsYGIh/R6v7lXM2QGfi7FvbUfWpnTIvbiWaU8Vpt5rfBxEY8r8aTlrt9Dma5Z3dxnPY5htYxlkQORpHFFY7TcaqIIK33XlcvmZ4ei3KmUvSIWiJCFUARu3MTWTdHY8whbrwkjqYk0KI3B4D5dt0XEFTVD9xlr7kSjzbbmcKTEFXgj9ggTwkFpPe6QLjWyX1M+iB/GBK7GvqpkPy1cLc0Sv4kNeJe0R4m34GedOnaFZvCAzBvwxb7i+TKRY1jsqzpBNHXS7tidJgc9xdquGA0Jn+qtB8QfGrZ0lWclKLGi8vc38OvSDIrMffh7XGusbMe8rv2V2itwI64TcSemhB/AsvBRPKcpW3AfPoPNRqOpmszUNIgfJ64nXi5MsUQux2nLwF27e85FFbxzdSFVQT/jqzJHWFUD/CzukloR79cPyEGl4VAzaGU8f5aOtvV6CWM4LpoFYRErcQfWohFndHdR275VL+dvwjZpQ42zlHPCjbPCP0e2c9Ajy76f+opcWdXoKuFv8Fe1cacwWa/340KZ94jcUulzCg/L/O0K4st4ra5dTxzGKzGN1ZgV5Y1YjytxpAKdw/P1RTVm5667t/fqle4QdkkHsEUvn0UnfeKCdOcRjsagQh8RYdCmtqzogeQJooggcxXmRIwjRSzJXIPjMkNEI3XkiBirVnpK5pyIFb2CanVdipgiFsgp8iTRkjHw7dfBviFrlYrilqOto7ENbxG6PrP5b9ryHA5jL1GU0nvq0JvAFatP+cDv9k+957YjtfQhDI0XltveMRPK2ItyFLWCPeVLhLY9YTCGOK40KbswWs7zAakDJDcKr9KrTZzVPQfwW/ggfl+vShfiiZ6KcaMuHyNbvAwzFuZGdm4/inW6/G9chk7GPkvtSlyvdwPP6IZ1Xui9YOqPG6Wh6yqhuj6eaM5TkdDVmPeaX7zfuovDibnOjt1p5/bAg7UPlnBY+Kq0C8eIn8EJcis+h7v0KvQlfBj/iAcq328il3EzTta+eUY/7LrvgDGQ5Zs/OvMqtePfZHrFNU7MJUoFcdYE1lOhr9Nj+sbcIOJxPI1ZYb/x478j40H8p/ThmohD6ITL9ZJ7MV44E8nOW8/vFM9a3wwkzrxOD5EFvXWpj88eRGYrs9HbkZkK64p619EqJP+CE9Jlhqsn6glwvVXNCO/D63FcuryCehDvrfvHN0jn/xLI1ytyenasxfefgXnXx/q/EURciH9F059F4mt6ifyIdL1+kk8Sj8qYFlYIX3KyvQR/qW/kB/R9sQEX4UNn9v82x9tvzP+5a+f200bue+pmJ8l3E7MoL8nbD93aOwN5ujn7yi23Xw/m185/yvu/rG9du7tvid5dZqGcrlH41frfkXP7pD/TRHTVQff3R5RKw0RDjKo5PO2yQygVcI0mospv33e6tOPj3xGQ/wFhJVNeFuvgaQAAACV0RVh0ZGF0ZTpjcmVhdGUAMjAyMy0wMy0zMFQwMTo0MzowOCswMDowMHC/SfwAAAAldEVYdGRhdGU6bW9kaWZ5ADIwMjMtMDMtMzBUMDE6NDM6MDgrMDA6MDAB4vFAAAAAAElFTkSuQmCC) *- SSIT - GIT Soluciones Informáticas.* **Clasificación de PQRs**"
      ],
      "metadata": {
        "id": "GAApildnJ7-W"
      }
    },
    {
      "cell_type": "markdown",
      "source": [
        "# Por favor, pulse en el siguiente botón PLAY. A continuación, pulse el botón *Elegir archivos*. Posteriormente, seleccione los archivos .pdf desde su ubicación local, con los radicados de PQRs que va a clasificar. "
      ],
      "metadata": {
        "id": "VqZbTNM0-65p"
      }
    },
    {
      "cell_type": "code",
      "source": [
        "                                                                                                                                                                                     from google.colab import files; uploaded = files.upload() "
      ],
      "metadata": {
        "id": "zKMa2o6uFaXm",
        "colab": {
          "base_uri": "https://localhost:8080/",
          "height": 72
        },
        "outputId": "aef8f934-f7e5-423d-bf36-382cde42e077"
      },
      "execution_count": null,
      "outputs": [
        {
          "output_type": "display_data",
          "data": {
            "text/plain": [
              "<IPython.core.display.HTML object>"
            ],
            "text/html": [
              "\n",
              "     <input type=\"file\" id=\"files-26f3d7cb-d839-46af-b026-75f6e123c457\" name=\"files[]\" multiple disabled\n",
              "        style=\"border:none\" />\n",
              "     <output id=\"result-26f3d7cb-d839-46af-b026-75f6e123c457\">\n",
              "      Upload widget is only available when the cell has been executed in the\n",
              "      current browser session. Please rerun this cell to enable.\n",
              "      </output>\n",
              "      <script>// Copyright 2017 Google LLC\n",
              "//\n",
              "// Licensed under the Apache License, Version 2.0 (the \"License\");\n",
              "// you may not use this file except in compliance with the License.\n",
              "// You may obtain a copy of the License at\n",
              "//\n",
              "//      http://www.apache.org/licenses/LICENSE-2.0\n",
              "//\n",
              "// Unless required by applicable law or agreed to in writing, software\n",
              "// distributed under the License is distributed on an \"AS IS\" BASIS,\n",
              "// WITHOUT WARRANTIES OR CONDITIONS OF ANY KIND, either express or implied.\n",
              "// See the License for the specific language governing permissions and\n",
              "// limitations under the License.\n",
              "\n",
              "/**\n",
              " * @fileoverview Helpers for google.colab Python module.\n",
              " */\n",
              "(function(scope) {\n",
              "function span(text, styleAttributes = {}) {\n",
              "  const element = document.createElement('span');\n",
              "  element.textContent = text;\n",
              "  for (const key of Object.keys(styleAttributes)) {\n",
              "    element.style[key] = styleAttributes[key];\n",
              "  }\n",
              "  return element;\n",
              "}\n",
              "\n",
              "// Max number of bytes which will be uploaded at a time.\n",
              "const MAX_PAYLOAD_SIZE = 100 * 1024;\n",
              "\n",
              "function _uploadFiles(inputId, outputId) {\n",
              "  const steps = uploadFilesStep(inputId, outputId);\n",
              "  const outputElement = document.getElementById(outputId);\n",
              "  // Cache steps on the outputElement to make it available for the next call\n",
              "  // to uploadFilesContinue from Python.\n",
              "  outputElement.steps = steps;\n",
              "\n",
              "  return _uploadFilesContinue(outputId);\n",
              "}\n",
              "\n",
              "// This is roughly an async generator (not supported in the browser yet),\n",
              "// where there are multiple asynchronous steps and the Python side is going\n",
              "// to poll for completion of each step.\n",
              "// This uses a Promise to block the python side on completion of each step,\n",
              "// then passes the result of the previous step as the input to the next step.\n",
              "function _uploadFilesContinue(outputId) {\n",
              "  const outputElement = document.getElementById(outputId);\n",
              "  const steps = outputElement.steps;\n",
              "\n",
              "  const next = steps.next(outputElement.lastPromiseValue);\n",
              "  return Promise.resolve(next.value.promise).then((value) => {\n",
              "    // Cache the last promise value to make it available to the next\n",
              "    // step of the generator.\n",
              "    outputElement.lastPromiseValue = value;\n",
              "    return next.value.response;\n",
              "  });\n",
              "}\n",
              "\n",
              "/**\n",
              " * Generator function which is called between each async step of the upload\n",
              " * process.\n",
              " * @param {string} inputId Element ID of the input file picker element.\n",
              " * @param {string} outputId Element ID of the output display.\n",
              " * @return {!Iterable<!Object>} Iterable of next steps.\n",
              " */\n",
              "function* uploadFilesStep(inputId, outputId) {\n",
              "  const inputElement = document.getElementById(inputId);\n",
              "  inputElement.disabled = false;\n",
              "\n",
              "  const outputElement = document.getElementById(outputId);\n",
              "  outputElement.innerHTML = '';\n",
              "\n",
              "  const pickedPromise = new Promise((resolve) => {\n",
              "    inputElement.addEventListener('change', (e) => {\n",
              "      resolve(e.target.files);\n",
              "    });\n",
              "  });\n",
              "\n",
              "  const cancel = document.createElement('button');\n",
              "  inputElement.parentElement.appendChild(cancel);\n",
              "  cancel.textContent = 'Cancel upload';\n",
              "  const cancelPromise = new Promise((resolve) => {\n",
              "    cancel.onclick = () => {\n",
              "      resolve(null);\n",
              "    };\n",
              "  });\n",
              "\n",
              "  // Wait for the user to pick the files.\n",
              "  const files = yield {\n",
              "    promise: Promise.race([pickedPromise, cancelPromise]),\n",
              "    response: {\n",
              "      action: 'starting',\n",
              "    }\n",
              "  };\n",
              "\n",
              "  cancel.remove();\n",
              "\n",
              "  // Disable the input element since further picks are not allowed.\n",
              "  inputElement.disabled = true;\n",
              "\n",
              "  if (!files) {\n",
              "    return {\n",
              "      response: {\n",
              "        action: 'complete',\n",
              "      }\n",
              "    };\n",
              "  }\n",
              "\n",
              "  for (const file of files) {\n",
              "    const li = document.createElement('li');\n",
              "    li.append(span(file.name, {fontWeight: 'bold'}));\n",
              "    li.append(span(\n",
              "        `(${file.type || 'n/a'}) - ${file.size} bytes, ` +\n",
              "        `last modified: ${\n",
              "            file.lastModifiedDate ? file.lastModifiedDate.toLocaleDateString() :\n",
              "                                    'n/a'} - `));\n",
              "    const percent = span('0% done');\n",
              "    li.appendChild(percent);\n",
              "\n",
              "    outputElement.appendChild(li);\n",
              "\n",
              "    const fileDataPromise = new Promise((resolve) => {\n",
              "      const reader = new FileReader();\n",
              "      reader.onload = (e) => {\n",
              "        resolve(e.target.result);\n",
              "      };\n",
              "      reader.readAsArrayBuffer(file);\n",
              "    });\n",
              "    // Wait for the data to be ready.\n",
              "    let fileData = yield {\n",
              "      promise: fileDataPromise,\n",
              "      response: {\n",
              "        action: 'continue',\n",
              "      }\n",
              "    };\n",
              "\n",
              "    // Use a chunked sending to avoid message size limits. See b/62115660.\n",
              "    let position = 0;\n",
              "    do {\n",
              "      const length = Math.min(fileData.byteLength - position, MAX_PAYLOAD_SIZE);\n",
              "      const chunk = new Uint8Array(fileData, position, length);\n",
              "      position += length;\n",
              "\n",
              "      const base64 = btoa(String.fromCharCode.apply(null, chunk));\n",
              "      yield {\n",
              "        response: {\n",
              "          action: 'append',\n",
              "          file: file.name,\n",
              "          data: base64,\n",
              "        },\n",
              "      };\n",
              "\n",
              "      let percentDone = fileData.byteLength === 0 ?\n",
              "          100 :\n",
              "          Math.round((position / fileData.byteLength) * 100);\n",
              "      percent.textContent = `${percentDone}% done`;\n",
              "\n",
              "    } while (position < fileData.byteLength);\n",
              "  }\n",
              "\n",
              "  // All done.\n",
              "  yield {\n",
              "    response: {\n",
              "      action: 'complete',\n",
              "    }\n",
              "  };\n",
              "}\n",
              "\n",
              "scope.google = scope.google || {};\n",
              "scope.google.colab = scope.google.colab || {};\n",
              "scope.google.colab._files = {\n",
              "  _uploadFiles,\n",
              "  _uploadFilesContinue,\n",
              "};\n",
              "})(self);\n",
              "</script> "
            ]
          },
          "metadata": {}
        },
        {
          "output_type": "stream",
          "name": "stdout",
          "text": [
            "Saving 20222200182893.pdf to 20222200182893.pdf\n"
          ]
        }
      ]
    },
    {
      "cell_type": "markdown",
      "source": [
        "#A continuación, por favor, pulse el siguiente botón PLAY, y en unos minutos, el proceso descargará automáticamente el listado de los radicados indicando su nivel de complejidad."
      ],
      "metadata": {
        "id": "jPWHn7AXp1pQ"
      }
    },
    {
      "cell_type": "markdown",
      "source": [
        "---"
      ],
      "metadata": {
        "id": "wK6hmh1TAkxc"
      }
    },
    {
      "cell_type": "markdown",
      "source": [
        "Reubicar los archivos recién subidos."
      ],
      "metadata": {
        "id": "F_GnjJOf_Z2b"
      }
    },
    {
      "cell_type": "code",
      "source": [
        "!mkdir -p /content/archivos\n",
        "%cd /content\n",
        "%mv *.pdf /content/archivos/"
      ],
      "metadata": {
        "colab": {
          "base_uri": "https://localhost:8080/"
        },
        "id": "fp8ARjuqNC1u",
        "outputId": "d93c3d48-1af8-414b-920b-d75ca1872fed"
      },
      "execution_count": null,
      "outputs": [
        {
          "output_type": "stream",
          "name": "stdout",
          "text": [
            "/content\n"
          ]
        }
      ]
    },
    {
      "cell_type": "code",
      "source": [
        "%%capture\n",
        "!pip install Pillow==9.3.0"
      ],
      "metadata": {
        "id": "7JIITZyep02e"
      },
      "execution_count": null,
      "outputs": []
    },
    {
      "cell_type": "markdown",
      "source": [
        "Luego de que se reinicie el entorno, se debe ejecutar el resto del notebook. Se ve el resultados al final del notebook y se descarga automáticamente la lista de radicados clasificados en un libro de Excel."
      ],
      "metadata": {
        "id": "A12h1A3c-qW_"
      }
    },
    {
      "cell_type": "code",
      "source": [
        "#import os\n",
        "#os.kill(os.getpid(), 9)"
      ],
      "metadata": {
        "id": "nK5uW3vhzBH4"
      },
      "execution_count": null,
      "outputs": []
    },
    {
      "cell_type": "markdown",
      "source": [
        "Instalación de librerías para la conversión de pdfs a texto."
      ],
      "metadata": {
        "id": "u38k0Ghfqj1b"
      }
    },
    {
      "cell_type": "code",
      "source": [
        "%%capture\n",
        "!sudo apt install tesseract-ocr\n",
        "!pip install pytesseract==0.3.9\n",
        "!pip install pdf2image\n",
        "!pip install datefinder\n",
        "!apt-get install poppler-utils \n",
        "!apt-get update\n",
        "!pip install pdfplumber\n",
        "!sudo apt-get install imagemagick libmagickwand-dev\n",
        "!sudo apt-get install tesseract-ocr-spa"
      ],
      "metadata": {
        "id": "cYeFIVAupwha"
      },
      "execution_count": null,
      "outputs": []
    },
    {
      "cell_type": "markdown",
      "source": [
        "Se debe modificar un archivo de ``pytesseract``, por lo que se realiza esta parte de código."
      ],
      "metadata": {
        "id": "MvYFZ7ThqcSf"
      }
    },
    {
      "cell_type": "code",
      "source": [
        "f = open(\"/etc/ImageMagick-6/policy.xml\", \"w\")\n",
        "f.write(\n",
        "    \"\"\"\n",
        "    <?xml version=\"1.0\" encoding=\"UTF-8\"?>\n",
        "    <!DOCTYPE policymap [\n",
        "    <!ELEMENT policymap (policy)+>\n",
        "    <!ELEMENT policy (#PCDATA)>\n",
        "    <!ATTLIST policy domain (delegate|coder|filter|path|resource) #IMPLIED>\n",
        "    <!ATTLIST policy name CDATA #IMPLIED>\n",
        "    <!ATTLIST policy rights CDATA #IMPLIED>\n",
        "    <!ATTLIST policy pattern CDATA #IMPLIED>\n",
        "    <!ATTLIST policy value CDATA #IMPLIED>\n",
        "    ]>\n",
        "    <!--\n",
        "      Configure ImageMagick policies.\n",
        "\n",
        "      Domains include system, delegate, coder, filter, path, or resource.\n",
        "\n",
        "      Rights include none, read, write, and execute.  Use | to combine them,\n",
        "      for example: \"read | write\" to permit read from, or write to, a path.\n",
        "\n",
        "      Use a glob expression as a pattern.\n",
        "\n",
        "      Suppose we do not want users to process MPEG video images:\n",
        "\n",
        "        <policy domain=\"delegate\" rights=\"none\" pattern=\"mpeg:decode\" />\n",
        "\n",
        "      Here we do not want users reading images from HTTP:\n",
        "\n",
        "        <policy domain=\"coder\" rights=\"none\" pattern=\"HTTP\" />\n",
        "\n",
        "      Lets prevent users from executing any image filters:\n",
        "\n",
        "        <policy domain=\"filter\" rights=\"none\" pattern=\"*\" />\n",
        "\n",
        "      The /repository file system is restricted to read only.  We use a glob\n",
        "      expression to match all paths that start with /repository:\n",
        "      \n",
        "        <policy domain=\"path\" rights=\"read\" pattern=\"/repository/*\" />\n",
        "\n",
        "      Let's prevent possible exploits by removing the right to use indirect reads.\n",
        "\n",
        "        <policy domain=\"path\" rights=\"none\" pattern=\"@*\" />\n",
        "\n",
        "      Any large image is cached to disk rather than memory:\n",
        "\n",
        "        <policy domain=\"resource\" name=\"area\" value=\"1GB\"/>\n",
        "\n",
        "      Define arguments for the memory, map, area, width, height, and disk resources\n",
        "      with SI prefixes (.e.g 100MB).  In addition, resource policies are maximums\n",
        "      for each instance of ImageMagick (e.g. policy memory limit 1GB, -limit 2GB\n",
        "      exceeds policy maximum so memory limit is 1GB).\n",
        "    -->\n",
        "    <policymap>\n",
        "      <!-- <policy domain=\"resource\" name=\"temporary-path\" value=\"/tmp\"/> -->\n",
        "      <policy domain=\"resource\" name=\"memory\" value=\"4GiB\"/>\n",
        "      <policy domain=\"resource\" name=\"map\" value=\"4GiB\"/>\n",
        "      <policy domain=\"resource\" name=\"width\" value=\"16KP\"/>\n",
        "      <policy domain=\"resource\" name=\"height\" value=\"16KP\"/>\n",
        "      <policy domain=\"resource\" name=\"area\" value=\"128MB\"/>\n",
        "      <policy domain=\"resource\" name=\"disk\" value=\"4GiB\"/>\n",
        "      <!-- <policy domain=\"resource\" name=\"file\" value=\"768\"/> -->\n",
        "      <!-- <policy domain=\"resource\" name=\"thread\" value=\"4\"/> -->\n",
        "      <!-- <policy domain=\"resource\" name=\"throttle\" value=\"0\"/> -->\n",
        "      <!-- <policy domain=\"resource\" name=\"time\" value=\"3600\"/> -->\n",
        "      <!-- <policy domain=\"system\" name=\"precision\" value=\"6\"/> -->\n",
        "      <!-- not needed due to the need to use explicitly by mvg: -->\n",
        "      <!-- <policy domain=\"delegate\" rights=\"none\" pattern=\"MVG\" /> -->\n",
        "      <!-- use curl -->\n",
        "      <policy domain=\"delegate\" rights=\"none\" pattern=\"URL\" />\n",
        "      <policy domain=\"delegate\" rights=\"none\" pattern=\"HTTPS\" />\n",
        "      <policy domain=\"delegate\" rights=\"none\" pattern=\"HTTP\" />\n",
        "      <!-- in order to avoid to get image with password text -->\n",
        "      <policy domain=\"path\" rights=\"none\" pattern=\"@*\"/>\n",
        "      <policy domain=\"cache\" name=\"shared-secret\" value=\"passphrase\" stealth=\"true\"/>\n",
        "      <!-- disable ghostscript format types -->\n",
        "      <!-- <policy domain=\"coder\" rights=\"none\" pattern=\"PS\" /> -->\n",
        "      <policy domain=\"coder\" rights=\"none\" pattern=\"PS2\" />\n",
        "      <policy domain=\"coder\" rights=\"none\" pattern=\"PS3\" />\n",
        "      <policy domain=\"coder\" rights=\"none\" pattern=\"EPS\" />\n",
        "      <policy domain=\"coder\" rights=\"read|write\" pattern=\"PDF\" />\n",
        "      <policy domain=\"coder\" rights=\"none\" pattern=\"XPS\" />\n",
        "      <policy domain=\"coder\" rights=\"read|write\" pattern=\"LABEL\" />\n",
        "    </policymap>\n",
        "    \"\"\"\n",
        ")\n",
        "f.close()"
      ],
      "metadata": {
        "id": "fIn11mA3qhAv"
      },
      "execution_count": null,
      "outputs": []
    },
    {
      "cell_type": "markdown",
      "source": [
        "Se cargan las librerías necesarias."
      ],
      "metadata": {
        "id": "baP45qasN7LF"
      }
    },
    {
      "cell_type": "code",
      "source": [
        "%%capture\n",
        "#para mirar el tiempo que toma\n",
        "from datetime import datetime\n",
        "\n",
        "#para explorar directorios y nombres de archivos\n",
        "import os\n",
        "import glob\n",
        "\n",
        "# para guardar y cargar los modelos ajustados de scikitlearn en un pickle\n",
        "# importante usar la libreriia dill en vez de pickle para que guarde correctamente la clase que normaliza el texto\n",
        "!pip install dill\n",
        "from dill import dumps, loads\n",
        "\n",
        "# para trabajar con arrays\n",
        "import numpy as np\n",
        "\n",
        "# para ver el resultado y exportarlo a excel\n",
        "import pandas as pd\n",
        "from google.colab import files"
      ],
      "metadata": {
        "id": "PVD7YrFio1rE"
      },
      "execution_count": null,
      "outputs": []
    },
    {
      "cell_type": "markdown",
      "source": [
        "Librerías necesarias para la conversión de los pdfs a texto."
      ],
      "metadata": {
        "id": "scyj5X61pQ30"
      }
    },
    {
      "cell_type": "code",
      "source": [
        "import os\n",
        "import shutil\n",
        "import pdfplumber\n",
        "import cv2 as cv\n",
        "import pytesseract\n",
        "from pytesseract import Output\n",
        "from time import time, ctime\n",
        "from tqdm.notebook import trange, tqdm"
      ],
      "metadata": {
        "id": "om34QWPIo-QJ"
      },
      "execution_count": null,
      "outputs": []
    },
    {
      "cell_type": "markdown",
      "source": [
        "Librerías para el pickle que se va a cargar."
      ],
      "metadata": {
        "id": "1VnJ3L62tIsC"
      }
    },
    {
      "cell_type": "code",
      "source": [
        "%%capture\n",
        "# para hacer remplazos de expresiones regulares\n",
        "import re\n",
        "\n",
        "# lematizador spacy español\n",
        "!pip install -U spacy\n",
        "!python -m spacy download es_core_news_sm\n",
        "import spacy\n",
        "import es_core_news_sm\n",
        "parser_spacy = es_core_news_sm.load()\n",
        "\n",
        "# tokenizador de nltk y listado stopwords en espanyol\n",
        "import nltk\n",
        "nltk.download('stopwords')\n",
        "nltk.download('punkt')\n",
        "from nltk.corpus import stopwords\n",
        "from nltk.tokenize import word_tokenize\n",
        "sp_stop_words = stopwords.words('spanish')"
      ],
      "metadata": {
        "id": "v41sCC_5tIEH"
      },
      "execution_count": null,
      "outputs": []
    },
    {
      "cell_type": "markdown",
      "source": [
        "Se carga el modelo ajustado desde GitHub y se elimina el .pickle"
      ],
      "metadata": {
        "id": "izMylC1juR-s"
      }
    },
    {
      "cell_type": "code",
      "source": [
        "%%capture\n",
        "!wget https://github.com/monteroanibal/Anibal-Montero-Varios/releases/download/v2.0.0/modelo_clasif_PQRs_v2.pickle\n",
        "\n",
        "filnam = \"modelo_clasif_PQRs_v2.pickle\"\n",
        "dilfil = open(filnam, \"rb\")\n",
        "PL = loads(dilfil.read())\n",
        "dilfil.close()\n",
        "\n",
        "!rm -rf modelo_clasif_PQRs_v2.pickle"
      ],
      "metadata": {
        "id": "gReA4Uvch8qi"
      },
      "execution_count": null,
      "outputs": []
    },
    {
      "cell_type": "markdown",
      "source": [
        "Se ubica la carpeta con los pdfs."
      ],
      "metadata": {
        "id": "s5kXDA41m9oL"
      }
    },
    {
      "cell_type": "code",
      "source": [
        "%%capture\n",
        "%cd /content"
      ],
      "metadata": {
        "id": "s-mp576DkAnd"
      },
      "execution_count": null,
      "outputs": []
    },
    {
      "cell_type": "code",
      "source": [
        "orig_folder = os.listdir()\n",
        "ppal_folder = orig_folder.copy()\n",
        "flist = ['.config', 'sample_data', '.ipynb_checkpoints', 'AUX_IMAGES', 'OUTPUT']\n",
        "for element in orig_folder:\n",
        "  if element in flist or \".zip\" in element:\n",
        "    ppal_folder.remove(element)\n",
        "ppal_folder = ppal_folder[0]\n",
        "print('Nombre carpeta: -> ' + ppal_folder)"
      ],
      "metadata": {
        "colab": {
          "base_uri": "https://localhost:8080/"
        },
        "id": "yJEwbaQCmuNw",
        "outputId": "d0a0bbf4-649f-4c39-d6a9-67ce83c268dd"
      },
      "execution_count": null,
      "outputs": [
        {
          "output_type": "stream",
          "name": "stdout",
          "text": [
            "Nombre carpeta: -> archivos\n"
          ]
        }
      ]
    },
    {
      "cell_type": "markdown",
      "source": [
        "Carpeta principal."
      ],
      "metadata": {
        "id": "eUKnJRu1m4mx"
      }
    },
    {
      "cell_type": "code",
      "source": [
        "ROOT_FOLDER = os.getcwd()\n",
        "print(ROOT_FOLDER)"
      ],
      "metadata": {
        "colab": {
          "base_uri": "https://localhost:8080/"
        },
        "id": "K6Z86VzPm1vP",
        "outputId": "0b022cd1-47a1-4ad0-897f-24d51d4bf112"
      },
      "execution_count": null,
      "outputs": [
        {
          "output_type": "stream",
          "name": "stdout",
          "text": [
            "/content\n"
          ]
        }
      ]
    },
    {
      "cell_type": "markdown",
      "source": [
        "Carpeta para los archivos de texto generados."
      ],
      "metadata": {
        "id": "Yg9LQX46nzhz"
      }
    },
    {
      "cell_type": "code",
      "source": [
        "TXT_FOLDER = os.sep.join([ROOT_FOLDER,\"OUTPUT\"])\n",
        "if not os.path.exists(TXT_FOLDER):\n",
        "    os.mkdir(TXT_FOLDER)\n",
        "print(TXT_FOLDER)"
      ],
      "metadata": {
        "colab": {
          "base_uri": "https://localhost:8080/"
        },
        "id": "m-URwgw4n5jr",
        "outputId": "ecc98c82-7e85-40a3-c998-a61da2d1b693"
      },
      "execution_count": null,
      "outputs": [
        {
          "output_type": "stream",
          "name": "stdout",
          "text": [
            "/content/OUTPUT\n"
          ]
        }
      ]
    },
    {
      "cell_type": "markdown",
      "source": [
        "Carpeta para los archivos de imagen que fueron usados:"
      ],
      "metadata": {
        "id": "0I7pvuBin8TK"
      }
    },
    {
      "cell_type": "code",
      "source": [
        "IMAGE_FOLDER = os.sep.join([ROOT_FOLDER,\"AUX_IMAGES\"])\n",
        "if not os.path.exists(IMAGE_FOLDER):\n",
        "    os.mkdir(IMAGE_FOLDER)\n",
        "print(IMAGE_FOLDER)"
      ],
      "metadata": {
        "colab": {
          "base_uri": "https://localhost:8080/"
        },
        "id": "cK-EKSzjn7t8",
        "outputId": "38b31ef7-434f-4c30-b0fe-a409224c23cc"
      },
      "execution_count": null,
      "outputs": [
        {
          "output_type": "stream",
          "name": "stdout",
          "text": [
            "/content/AUX_IMAGES\n"
          ]
        }
      ]
    },
    {
      "cell_type": "markdown",
      "source": [
        "Funciones necesarias para la conversión de los pdfs a texto."
      ],
      "metadata": {
        "id": "dmh7EQb6oHux"
      }
    },
    {
      "cell_type": "code",
      "source": [
        "def verify_folder(dir_folder):\n",
        "  \"Crea una carpeta para guardar las imagenes obtenidas\"\n",
        "  #dir_folder = os.sep.join([ROOT_FOLDER, dir_folder])\n",
        "  if not os.path.exists(dir_folder):\n",
        "    os.mkdir(dir_folder)\n",
        "  return dir_folder"
      ],
      "metadata": {
        "id": "MjDtTaXyoG1z"
      },
      "execution_count": null,
      "outputs": []
    },
    {
      "cell_type": "code",
      "source": [
        "def validate_content(text):\n",
        "  \"Valida si una cadena es suficiente para considerarse texto\"\n",
        "  photo_foot = [\n",
        "      \"Scanned by TapScanner\"\n",
        "  ]\n",
        "  invalid_options = [\n",
        "      \"  \",\n",
        "      \"   \"\n",
        "  ]\n",
        "  \n",
        "  photo = False\n",
        "  for option in photo_foot:\n",
        "    if text.__contains__(option):\n",
        "      photo = True\n",
        "      text = \"\"\n",
        "      break\n",
        "\n",
        "  \n",
        "  if not photo:\n",
        "    for option in (invalid_options+photo_foot):\n",
        "      text = text.replace(option, \"\")\n",
        "  \n",
        "  return text, photo"
      ],
      "metadata": {
        "id": "t_Jc76dpoPgx"
      },
      "execution_count": null,
      "outputs": []
    },
    {
      "cell_type": "code",
      "source": [
        "def image_text(imgFile, ncuadro = 23, par_c = 5, preprocess=False):\n",
        "  \"\"\"\n",
        "  Obtiene texto de una imagen binarizada y sin binarizar\n",
        "  Input: Ruta de ubicacion de la imagen (string)\n",
        "  \"\"\"\n",
        "  print(f\"----------Imagen: {imgFile}\")\n",
        "  img = cv.imread(imgFile)\n",
        "  \n",
        "  if preprocess:\n",
        "    ad_img = cv.cvtColor(img, cv.COLOR_BGR2GRAY)\n",
        "    th2 = cv.adaptiveThreshold(ad_img,255,cv.ADAPTIVE_THRESH_MEAN_C,\\\n",
        "                cv.THRESH_BINARY,ncuadro,par_c)\n",
        "    txt2 = pytesseract.image_to_string(th2)#, lang=\"spa\")\n",
        "    return txt2\n",
        "  else:\n",
        "    img = cv.cvtColor(img, cv.COLOR_BGR2RGB)\n",
        "    txt1 = pytesseract.image_to_string(img)#, lang=\"spa\")\n",
        "    \n",
        "    return txt1"
      ],
      "metadata": {
        "id": "tsUnCK5EoR3n"
      },
      "execution_count": null,
      "outputs": []
    },
    {
      "cell_type": "code",
      "source": [
        "def process_file(filename):\n",
        "  \"\"\"\n",
        "    Función principal, que se encarga de procesar los \n",
        "    archivos PDF ingresados.\n",
        "  \"\"\"\n",
        "  head = os.path.split(filename)[1].replace('.pdf','')\n",
        "  print(head)\n",
        "  folder_output = verify_folder(os.sep.join([IMAGE_FOLDER, head]))\n",
        "  #Se crea el TXT para incluir lineas de texto\n",
        "  f = open(os.sep.join([TXT_FOLDER, head + \".txt\"]), \"w\")\n",
        "  # Abre el PDF para procesarlo\n",
        "  archivo = pdfplumber.open(filename)\n",
        "  pags = {}\n",
        "  k=1\n",
        "  # Lee cada pagina del PDF\n",
        "  for page in tqdm(archivo.pages):\n",
        "    print(f\"-----------------PAGINA {k}---------------\")\n",
        "    t0 = time()\n",
        "    # Extrae el texto de la pagina\n",
        "    text_page = page.extract_text()\n",
        "    # Preprocesa el texto \n",
        "    text_page = validate_content(text_page)\n",
        "    photo = text_page[1]\n",
        "    if len(text_page[0])>0:\n",
        "      # Caso de texto digitalizado\n",
        "      # Guarda el texto en un diccionario\n",
        "      pags[k]= text_page[0]\n",
        "      #print(text_page[0])\n",
        "    else:\n",
        "      # Caso como imagen\n",
        "      ## Guarda la imagen \n",
        "      image_file = os.sep.join([IMAGE_FOLDER, head, f\"{k}.jpg\"])\n",
        "      page.to_image(resolution=200).save(image_file, format=\"JPEG\")\n",
        "      # Procesa la imagen\n",
        "      ## Verifica tipo de imagen\n",
        "\n",
        "      ## Caso en el que es digitalizado\n",
        "\n",
        "      ## Caso en el que es un escaneo\n",
        "\n",
        "      if photo:\n",
        "        ## Caso en el que es foto\n",
        "        ff = image_text(image_file, preprocess=True)\n",
        "      else:\n",
        "        ff = image_text(image_file)\n",
        "      #print(\"Normal\", ff)\n",
        "      #Guarda el dato en el diccionario\n",
        "      pags[k]= ff\n",
        "    \n",
        "    #Registro de tiempo\n",
        "    t2 = time()\n",
        "    print(f\"Tiempo: {t2-t0}\")\n",
        "\n",
        "    #Guarda la linea en el TXT\n",
        "    f.write(f\"\\n----------------PAGINA {k}---------------\\n\")\n",
        "    f.write(pags[k])\n",
        "    k = k+1\n",
        "  f.close()"
      ],
      "metadata": {
        "id": "iMKXEvYwoU6b"
      },
      "execution_count": null,
      "outputs": []
    },
    {
      "cell_type": "markdown",
      "source": [
        "Conversión de los pdfs a texto."
      ],
      "metadata": {
        "id": "ystWYxx1oaVg"
      }
    },
    {
      "cell_type": "code",
      "source": [
        "%%capture\n",
        "folder_pdf = os.sep.join([os.getcwd(),ppal_folder])\n",
        "list_files = glob.glob(os.path.join(folder_pdf,\"*.pdf\"))\n",
        "for fil in tqdm(list_files):\n",
        "  process_file(fil)"
      ],
      "metadata": {
        "id": "fbzCPJB9odCo"
      },
      "execution_count": null,
      "outputs": []
    },
    {
      "cell_type": "markdown",
      "source": [
        "Se copian los textos en una lista."
      ],
      "metadata": {
        "id": "vbBbijqMs_ZS"
      }
    },
    {
      "cell_type": "code",
      "source": [
        "dirs = glob.glob(os.sep.join([ROOT_FOLDER,\"OUTPUT/*.txt\"]))\n",
        "corpus_pr = []\n",
        "\n",
        "for ruta in dirs:\n",
        "  with open(ruta) as f:\n",
        "    corpus_pr.append( f.read() )"
      ],
      "metadata": {
        "id": "hwtel7URs7sr"
      },
      "execution_count": null,
      "outputs": []
    },
    {
      "cell_type": "markdown",
      "source": [
        "Predicciones del pipeline."
      ],
      "metadata": {
        "id": "8oTNgdJ1VQQB"
      }
    },
    {
      "cell_type": "code",
      "source": [
        "predictions = PL.predict(corpus_pr)"
      ],
      "metadata": {
        "id": "Ag_pyFIhSUaw"
      },
      "execution_count": null,
      "outputs": []
    },
    {
      "cell_type": "markdown",
      "source": [
        "Resultado."
      ],
      "metadata": {
        "id": "KPDemvk_xInH"
      }
    },
    {
      "cell_type": "code",
      "source": [
        "resultado = pd.DataFrame(list(zip([os.path.splitext(os.path.basename(d))[0] for d in dirs],predictions)), columns=['Num_radicado','Clasificación'])\n",
        "resultado"
      ],
      "metadata": {
        "colab": {
          "base_uri": "https://localhost:8080/",
          "height": 81
        },
        "id": "m72usJ3Gu8zU",
        "outputId": "2903c2f8-c7ec-4747-9c15-59a99c3099f8"
      },
      "execution_count": null,
      "outputs": [
        {
          "output_type": "execute_result",
          "data": {
            "text/plain": [
              "     Num_radicado         Clasificación\n",
              "0  20222200182893  SOLICITUD ESPECIFICA"
            ],
            "text/html": [
              "\n",
              "  <div id=\"df-5ad73551-d695-49ea-8f76-d29747da8c87\">\n",
              "    <div class=\"colab-df-container\">\n",
              "      <div>\n",
              "<style scoped>\n",
              "    .dataframe tbody tr th:only-of-type {\n",
              "        vertical-align: middle;\n",
              "    }\n",
              "\n",
              "    .dataframe tbody tr th {\n",
              "        vertical-align: top;\n",
              "    }\n",
              "\n",
              "    .dataframe thead th {\n",
              "        text-align: right;\n",
              "    }\n",
              "</style>\n",
              "<table border=\"1\" class=\"dataframe\">\n",
              "  <thead>\n",
              "    <tr style=\"text-align: right;\">\n",
              "      <th></th>\n",
              "      <th>Num_radicado</th>\n",
              "      <th>Clasificación</th>\n",
              "    </tr>\n",
              "  </thead>\n",
              "  <tbody>\n",
              "    <tr>\n",
              "      <th>0</th>\n",
              "      <td>20222200182893</td>\n",
              "      <td>SOLICITUD ESPECIFICA</td>\n",
              "    </tr>\n",
              "  </tbody>\n",
              "</table>\n",
              "</div>\n",
              "      <button class=\"colab-df-convert\" onclick=\"convertToInteractive('df-5ad73551-d695-49ea-8f76-d29747da8c87')\"\n",
              "              title=\"Convert this dataframe to an interactive table.\"\n",
              "              style=\"display:none;\">\n",
              "        \n",
              "  <svg xmlns=\"http://www.w3.org/2000/svg\" height=\"24px\"viewBox=\"0 0 24 24\"\n",
              "       width=\"24px\">\n",
              "    <path d=\"M0 0h24v24H0V0z\" fill=\"none\"/>\n",
              "    <path d=\"M18.56 5.44l.94 2.06.94-2.06 2.06-.94-2.06-.94-.94-2.06-.94 2.06-2.06.94zm-11 1L8.5 8.5l.94-2.06 2.06-.94-2.06-.94L8.5 2.5l-.94 2.06-2.06.94zm10 10l.94 2.06.94-2.06 2.06-.94-2.06-.94-.94-2.06-.94 2.06-2.06.94z\"/><path d=\"M17.41 7.96l-1.37-1.37c-.4-.4-.92-.59-1.43-.59-.52 0-1.04.2-1.43.59L10.3 9.45l-7.72 7.72c-.78.78-.78 2.05 0 2.83L4 21.41c.39.39.9.59 1.41.59.51 0 1.02-.2 1.41-.59l7.78-7.78 2.81-2.81c.8-.78.8-2.07 0-2.86zM5.41 20L4 18.59l7.72-7.72 1.47 1.35L5.41 20z\"/>\n",
              "  </svg>\n",
              "      </button>\n",
              "      \n",
              "  <style>\n",
              "    .colab-df-container {\n",
              "      display:flex;\n",
              "      flex-wrap:wrap;\n",
              "      gap: 12px;\n",
              "    }\n",
              "\n",
              "    .colab-df-convert {\n",
              "      background-color: #E8F0FE;\n",
              "      border: none;\n",
              "      border-radius: 50%;\n",
              "      cursor: pointer;\n",
              "      display: none;\n",
              "      fill: #1967D2;\n",
              "      height: 32px;\n",
              "      padding: 0 0 0 0;\n",
              "      width: 32px;\n",
              "    }\n",
              "\n",
              "    .colab-df-convert:hover {\n",
              "      background-color: #E2EBFA;\n",
              "      box-shadow: 0px 1px 2px rgba(60, 64, 67, 0.3), 0px 1px 3px 1px rgba(60, 64, 67, 0.15);\n",
              "      fill: #174EA6;\n",
              "    }\n",
              "\n",
              "    [theme=dark] .colab-df-convert {\n",
              "      background-color: #3B4455;\n",
              "      fill: #D2E3FC;\n",
              "    }\n",
              "\n",
              "    [theme=dark] .colab-df-convert:hover {\n",
              "      background-color: #434B5C;\n",
              "      box-shadow: 0px 1px 3px 1px rgba(0, 0, 0, 0.15);\n",
              "      filter: drop-shadow(0px 1px 2px rgba(0, 0, 0, 0.3));\n",
              "      fill: #FFFFFF;\n",
              "    }\n",
              "  </style>\n",
              "\n",
              "      <script>\n",
              "        const buttonEl =\n",
              "          document.querySelector('#df-5ad73551-d695-49ea-8f76-d29747da8c87 button.colab-df-convert');\n",
              "        buttonEl.style.display =\n",
              "          google.colab.kernel.accessAllowed ? 'block' : 'none';\n",
              "\n",
              "        async function convertToInteractive(key) {\n",
              "          const element = document.querySelector('#df-5ad73551-d695-49ea-8f76-d29747da8c87');\n",
              "          const dataTable =\n",
              "            await google.colab.kernel.invokeFunction('convertToInteractive',\n",
              "                                                     [key], {});\n",
              "          if (!dataTable) return;\n",
              "\n",
              "          const docLinkHtml = 'Like what you see? Visit the ' +\n",
              "            '<a target=\"_blank\" href=https://colab.research.google.com/notebooks/data_table.ipynb>data table notebook</a>'\n",
              "            + ' to learn more about interactive tables.';\n",
              "          element.innerHTML = '';\n",
              "          dataTable['output_type'] = 'display_data';\n",
              "          await google.colab.output.renderOutput(dataTable, element);\n",
              "          const docLink = document.createElement('div');\n",
              "          docLink.innerHTML = docLinkHtml;\n",
              "          element.appendChild(docLink);\n",
              "        }\n",
              "      </script>\n",
              "    </div>\n",
              "  </div>\n",
              "  "
            ]
          },
          "metadata": {},
          "execution_count": 23
        }
      ]
    },
    {
      "cell_type": "markdown",
      "source": [
        "Descarga automática."
      ],
      "metadata": {
        "id": "JoxFBM9ixKs6"
      }
    },
    {
      "cell_type": "code",
      "source": [
        "namres = 'Clasificacion_Radicados' + datetime.now().strftime('_%m%d%Y_%H%M%S') + '.xlsx'\n",
        "resultado.to_excel(namres, sheet_name='Clasificacion', index=False)\n",
        "files.download(namres)"
      ],
      "metadata": {
        "colab": {
          "base_uri": "https://localhost:8080/",
          "height": 17
        },
        "id": "UpRN-dOPxDmO",
        "outputId": "bbf48515-ffe8-4347-aca3-f8b5759a7de4"
      },
      "execution_count": null,
      "outputs": [
        {
          "output_type": "display_data",
          "data": {
            "text/plain": [
              "<IPython.core.display.Javascript object>"
            ],
            "application/javascript": [
              "\n",
              "    async function download(id, filename, size) {\n",
              "      if (!google.colab.kernel.accessAllowed) {\n",
              "        return;\n",
              "      }\n",
              "      const div = document.createElement('div');\n",
              "      const label = document.createElement('label');\n",
              "      label.textContent = `Downloading \"${filename}\": `;\n",
              "      div.appendChild(label);\n",
              "      const progress = document.createElement('progress');\n",
              "      progress.max = size;\n",
              "      div.appendChild(progress);\n",
              "      document.body.appendChild(div);\n",
              "\n",
              "      const buffers = [];\n",
              "      let downloaded = 0;\n",
              "\n",
              "      const channel = await google.colab.kernel.comms.open(id);\n",
              "      // Send a message to notify the kernel that we're ready.\n",
              "      channel.send({})\n",
              "\n",
              "      for await (const message of channel.messages) {\n",
              "        // Send a message to notify the kernel that we're ready.\n",
              "        channel.send({})\n",
              "        if (message.buffers) {\n",
              "          for (const buffer of message.buffers) {\n",
              "            buffers.push(buffer);\n",
              "            downloaded += buffer.byteLength;\n",
              "            progress.value = downloaded;\n",
              "          }\n",
              "        }\n",
              "      }\n",
              "      const blob = new Blob(buffers, {type: 'application/binary'});\n",
              "      const a = document.createElement('a');\n",
              "      a.href = window.URL.createObjectURL(blob);\n",
              "      a.download = filename;\n",
              "      div.appendChild(a);\n",
              "      a.click();\n",
              "      div.remove();\n",
              "    }\n",
              "  "
            ]
          },
          "metadata": {}
        },
        {
          "output_type": "display_data",
          "data": {
            "text/plain": [
              "<IPython.core.display.Javascript object>"
            ],
            "application/javascript": [
              "download(\"download_3eae0a5e-a32d-450c-b37d-da03df7e909d\", \"Clasificacion_Radicados_03302023_164112.xlsx\", 4978)"
            ]
          },
          "metadata": {}
        }
      ]
    },
    {
      "cell_type": "markdown",
      "source": [
        "---"
      ],
      "metadata": {
        "id": "nxvfhaMwnOIb"
      }
    }
  ]
}